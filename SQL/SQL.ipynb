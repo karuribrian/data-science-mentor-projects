{
 "cells": [
  {
   "cell_type": "code",
   "execution_count": 1,
   "id": "b670fd9b-02a1-4d2b-a89c-d0768a8c1f10",
   "metadata": {},
   "outputs": [],
   "source": [
    "import sqlite3\n",
    "import pandas as pd\n",
    "\n",
    "# Load the CSV files into pandas DataFrames\n",
    "sales_df = pd.read_csv(\"sales.csv\")\n",
    "categories_df = pd.read_csv(\"product_categories.csv\")\n"
   ]
  },
  {
   "cell_type": "code",
   "execution_count": 2,
   "id": "5b595414-97ab-4b35-906d-024d7abf9513",
   "metadata": {},
   "outputs": [
    {
     "data": {
      "text/plain": [
       "5"
      ]
     },
     "execution_count": 2,
     "metadata": {},
     "output_type": "execute_result"
    }
   ],
   "source": [
    "# Create (or connect to) a local SQLite database\n",
    "conn = sqlite3.connect(\"sales_data.db\")  # This will create the DB if it doesn't exist\n",
    "\n",
    "# Write DataFrames to SQLite tables\n",
    "sales_df.to_sql(\"Sales\", conn, if_exists=\"replace\", index=False)\n",
    "categories_df.to_sql(\"ProductCategories\", conn, if_exists=\"replace\", index=False)\n"
   ]
  },
  {
   "cell_type": "code",
   "execution_count": 3,
   "id": "c0e6f1d6-b5b7-406b-a37c-5de91a8b4ac3",
   "metadata": {},
   "outputs": [
    {
     "data": {
      "text/html": [
       "<div>\n",
       "<style scoped>\n",
       "    .dataframe tbody tr th:only-of-type {\n",
       "        vertical-align: middle;\n",
       "    }\n",
       "\n",
       "    .dataframe tbody tr th {\n",
       "        vertical-align: top;\n",
       "    }\n",
       "\n",
       "    .dataframe thead th {\n",
       "        text-align: right;\n",
       "    }\n",
       "</style>\n",
       "<table border=\"1\" class=\"dataframe\">\n",
       "  <thead>\n",
       "    <tr style=\"text-align: right;\">\n",
       "      <th></th>\n",
       "      <th>name</th>\n",
       "    </tr>\n",
       "  </thead>\n",
       "  <tbody>\n",
       "    <tr>\n",
       "      <th>0</th>\n",
       "      <td>Sales</td>\n",
       "    </tr>\n",
       "    <tr>\n",
       "      <th>1</th>\n",
       "      <td>ProductCategories</td>\n",
       "    </tr>\n",
       "  </tbody>\n",
       "</table>\n",
       "</div>"
      ],
      "text/plain": [
       "                name\n",
       "0              Sales\n",
       "1  ProductCategories"
      ]
     },
     "execution_count": 3,
     "metadata": {},
     "output_type": "execute_result"
    }
   ],
   "source": [
    "# Optional: Confirm tables exist\n",
    "pd.read_sql(\"SELECT name FROM sqlite_master WHERE type='table';\", conn)\n"
   ]
  },
  {
   "cell_type": "code",
   "execution_count": 4,
   "id": "34e1c2c0-274b-42bb-894c-f99ddaa23886",
   "metadata": {},
   "outputs": [
    {
     "data": {
      "text/html": [
       "<div>\n",
       "<style scoped>\n",
       "    .dataframe tbody tr th:only-of-type {\n",
       "        vertical-align: middle;\n",
       "    }\n",
       "\n",
       "    .dataframe tbody tr th {\n",
       "        vertical-align: top;\n",
       "    }\n",
       "\n",
       "    .dataframe thead th {\n",
       "        text-align: right;\n",
       "    }\n",
       "</style>\n",
       "<table border=\"1\" class=\"dataframe\">\n",
       "  <thead>\n",
       "    <tr style=\"text-align: right;\">\n",
       "      <th></th>\n",
       "      <th>Region</th>\n",
       "      <th>Category</th>\n",
       "      <th>TotalRevenue</th>\n",
       "    </tr>\n",
       "  </thead>\n",
       "  <tbody>\n",
       "    <tr>\n",
       "      <th>0</th>\n",
       "      <td>East</td>\n",
       "      <td>Apparel</td>\n",
       "      <td>1430</td>\n",
       "    </tr>\n",
       "    <tr>\n",
       "      <th>1</th>\n",
       "      <td>East</td>\n",
       "      <td>Electronics</td>\n",
       "      <td>900</td>\n",
       "    </tr>\n",
       "  </tbody>\n",
       "</table>\n",
       "</div>"
      ],
      "text/plain": [
       "  Region     Category  TotalRevenue\n",
       "0   East      Apparel          1430\n",
       "1   East  Electronics           900"
      ]
     },
     "execution_count": 4,
     "metadata": {},
     "output_type": "execute_result"
    }
   ],
   "source": [
    "query = \"\"\"\n",
    "WITH RegionRevenue AS (\n",
    "    SELECT Region, SUM(Revenue) AS TotalRevenue\n",
    "    FROM Sales\n",
    "    GROUP BY Region\n",
    "),\n",
    "AboveAverageRegions AS (\n",
    "    SELECT Region\n",
    "    FROM RegionRevenue\n",
    "    WHERE TotalRevenue > (SELECT AVG(TotalRevenue) FROM RegionRevenue)\n",
    ")\n",
    "SELECT \n",
    "    S.Region,\n",
    "    P.Category,\n",
    "    SUM(S.Revenue) AS TotalRevenue\n",
    "FROM Sales S\n",
    "JOIN ProductCategories P ON S.ProductID = P.ProductID\n",
    "WHERE S.Region IN (SELECT Region FROM AboveAverageRegions)\n",
    "GROUP BY S.Region, P.Category\n",
    "ORDER BY S.Region, TotalRevenue DESC;\n",
    "\"\"\"\n",
    "\n",
    "result_df = pd.read_sql(query, conn)\n",
    "result_df\n"
   ]
  },
  {
   "cell_type": "code",
   "execution_count": 5,
   "id": "adf5a150-3549-4380-aa19-69b9afbcdbc0",
   "metadata": {},
   "outputs": [
    {
     "data": {
      "text/html": [
       "<div>\n",
       "<style scoped>\n",
       "    .dataframe tbody tr th:only-of-type {\n",
       "        vertical-align: middle;\n",
       "    }\n",
       "\n",
       "    .dataframe tbody tr th {\n",
       "        vertical-align: top;\n",
       "    }\n",
       "\n",
       "    .dataframe thead th {\n",
       "        text-align: right;\n",
       "    }\n",
       "</style>\n",
       "<table border=\"1\" class=\"dataframe\">\n",
       "  <thead>\n",
       "    <tr style=\"text-align: right;\">\n",
       "      <th></th>\n",
       "      <th>seq</th>\n",
       "      <th>name</th>\n",
       "      <th>unique</th>\n",
       "      <th>origin</th>\n",
       "      <th>partial</th>\n",
       "    </tr>\n",
       "  </thead>\n",
       "  <tbody>\n",
       "    <tr>\n",
       "      <th>0</th>\n",
       "      <td>0</td>\n",
       "      <td>idx_sales_revenue</td>\n",
       "      <td>0</td>\n",
       "      <td>c</td>\n",
       "      <td>0</td>\n",
       "    </tr>\n",
       "  </tbody>\n",
       "</table>\n",
       "</div>"
      ],
      "text/plain": [
       "   seq               name  unique origin  partial\n",
       "0    0  idx_sales_revenue       0      c        0"
      ]
     },
     "execution_count": 5,
     "metadata": {},
     "output_type": "execute_result"
    }
   ],
   "source": [
    "# Create index on Revenue column\n",
    "conn.execute(\"CREATE INDEX IF NOT EXISTS idx_sales_revenue ON Sales(Revenue);\")\n",
    "conn.commit()\n",
    "\n",
    "# Confirm index was created\n",
    "pd.read_sql(\"PRAGMA index_list('Sales');\", conn)\n"
   ]
  },
  {
   "cell_type": "markdown",
   "id": "3cad0fc0-5cb8-4435-90e9-b5da4c900993",
   "metadata": {},
   "source": [
    "### Interpretation\n",
    "\n",
    "The SQL query identifies product categories contributing to total revenue in regions that perform above the average. This allows sales teams to focus on successful segments and replicate success in other areas. Creating an index on the `Revenue` column improves query performance, especially with filters or sorting. Though our dataset is small, this optimization matters significantly with larger volumes, enabling faster business intelligence reporting and operational decisions.\n"
   ]
  },
  {
   "cell_type": "code",
   "execution_count": null,
   "id": "8d3e651a-595d-42e2-9116-3334df39040a",
   "metadata": {},
   "outputs": [],
   "source": []
  }
 ],
 "metadata": {
  "kernelspec": {
   "display_name": "Python 3 (ipykernel)",
   "language": "python",
   "name": "python3"
  },
  "language_info": {
   "codemirror_mode": {
    "name": "ipython",
    "version": 3
   },
   "file_extension": ".py",
   "mimetype": "text/x-python",
   "name": "python",
   "nbconvert_exporter": "python",
   "pygments_lexer": "ipython3",
   "version": "3.12.7"
  }
 },
 "nbformat": 4,
 "nbformat_minor": 5
}
